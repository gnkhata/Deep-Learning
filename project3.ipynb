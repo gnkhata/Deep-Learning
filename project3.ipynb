{
  "nbformat": 4,
  "nbformat_minor": 0,
  "metadata": {
    "colab": {
      "provenance": [],
      "collapsed_sections": []
    },
    "kernelspec": {
      "name": "python3",
      "display_name": "Python 3"
    },
    "language_info": {
      "name": "python"
    },
    "accelerator": "GPU",
    "gpuClass": "standard"
  },
  "cells": [
    {
      "cell_type": "code",
      "execution_count": 1,
      "metadata": {
        "id": "crH8PNfht_Vr",
        "colab": {
          "base_uri": "https://localhost:8080/"
        },
        "outputId": "1a8b87e4-af07-40dc-c42f-c012eb3fa54e"
      },
      "outputs": [
        {
          "output_type": "stream",
          "name": "stdout",
          "text": [
            "Pytorch version:  1.12.1+cu113\n",
            "GPU availability:  True\n"
          ]
        }
      ],
      "source": [
        "import os\n",
        "import cv2\n",
        "import numpy as np\n",
        "import matplotlib.pyplot as plt\n",
        "import torch\n",
        "import torch.nn as nn\n",
        "import torch.nn.functional as F\n",
        "import torch.optim as optim\n",
        "from torch.utils.data import Dataset, DataLoader\n",
        "import torchvision.transforms as transforms\n",
        "from sklearn.metrics import accuracy_score\n",
        "\n",
        "print('Pytorch version: ', torch.__version__)\n",
        "print('GPU availability: ', torch.cuda.is_available())"
      ]
    },
    {
      "cell_type": "code",
      "source": [],
      "metadata": {
        "id": "JBmTiYZhlKqz"
      },
      "execution_count": 1,
      "outputs": []
    },
    {
      "cell_type": "markdown",
      "source": [
        "**Question 4 Part 1**"
      ],
      "metadata": {
        "id": "A1bmH_Z9lLOG"
      }
    },
    {
      "cell_type": "code",
      "source": [
        "#Dataset class for Part 1\n",
        "class BiDataset(Dataset):\n",
        "    def __init__(self, size=512, num_bits=16, zfills=17, flag=\"train\"):\n",
        "        self.num_bits = num_bits\n",
        "        self.size = size\n",
        "        self.flag = flag\n",
        "        \n",
        "        assert zfills > num_bits\n",
        "        self.zfills = zfills\n",
        "  \n",
        "    def __len__(self):\n",
        "        return self.size\n",
        "    \n",
        "    def __getitem__(self, index):\n",
        "        a = np.random.randint(0, 2**self.num_bits)\n",
        "        b = np.random.randint(0, 2**self.num_bits)\n",
        "        c = a + b\n",
        "\n",
        "        a_bin = format(a, 'b').zfill(self.zfills)[::-1]\n",
        "        b_bin = format(b, 'b').zfill(self.zfills)[::-1]\n",
        "        c_bin = format(c, 'b').zfill(self.zfills)[::-1]\n",
        "        \n",
        "        size  = len(a_bin)\n",
        "      \n",
        "        \n",
        "        X = np.zeros((size,2),dtype=np.float32)\n",
        "        y = np.zeros((len(c_bin)), dtype=np.float32)\n",
        "        for i in range(0, size):\n",
        "          X[i,0]=a_bin[i] \n",
        "          X[i,1]=b_bin[i]\n",
        "          y[i]=c_bin[i]\n",
        "      \n",
        "        X_tensor = torch.from_numpy(X)\n",
        "        y_tensor = torch.from_numpy(y)\n",
        "        if self.flag==\"train\":\n",
        "          return X_tensor, y_tensor\n",
        "        else:\n",
        "          return a, b, a_bin, b_bin, X_tensor, y_tensor\n"
      ],
      "metadata": {
        "id": "t2grq7xU-ahb"
      },
      "execution_count": 2,
      "outputs": []
    },
    {
      "cell_type": "code",
      "source": [
        "#Creating and loading dataset\n",
        "np.random.seed(0)\n",
        "training_set = BiDataset(size=512, num_bits=16, zfills=17, flag=\"train\")\n",
        "\n",
        "params = {'batch_size': 128,\n",
        "          'shuffle': True,\n",
        "          'num_workers': 2}\n",
        "\n",
        "train_loader = DataLoader(training_set, **params)"
      ],
      "metadata": {
        "id": "gI8sGQZc-pd7"
      },
      "execution_count": 3,
      "outputs": []
    },
    {
      "cell_type": "code",
      "source": [
        "#Model for Part 1\n",
        "class RNNModel(nn.Module):\n",
        "    def __init__(self, input_size, output_size, hidden_dim, n_layers):\n",
        "        super(RNNModel, self).__init__()\n",
        "\n",
        "        # Defining some parameters\n",
        "        self.hidden_dim = hidden_dim\n",
        "        self.n_layers = n_layers\n",
        "\n",
        "        self.rnn = nn.RNN(input_size, hidden_dim, n_layers, batch_first=True)   \n",
        "        # Fully connected layer\n",
        "        self.fc = nn.Linear(hidden_dim, output_size)\n",
        "        self.sigmoid = nn.Sigmoid()\n",
        "    \n",
        "    def forward(self, x):\n",
        "        \n",
        "        batch_size = x.size(0)\n",
        "        hidden = self.init_hidden(batch_size)\n",
        "        out, hidden = self.rnn(x, hidden)\n",
        "        \n",
        "        # Reshaping the outputs such that it can be fit into the fully connected layer\n",
        "        out = out.contiguous().view(-1, self.hidden_dim)\n",
        "        out = self.fc(out)\n",
        "        out = self.sigmoid(out)\n",
        "        return out, hidden\n",
        "    \n",
        "    def init_hidden(self, batch_size):\n",
        "        hidden = torch.zeros(self.n_layers, batch_size, self.hidden_dim).to(device)\n",
        "        return hidden"
      ],
      "metadata": {
        "id": "lcGI2XdiASTM"
      },
      "execution_count": 4,
      "outputs": []
    },
    {
      "cell_type": "code",
      "source": [
        "is_cuda = torch.cuda.is_available()\n",
        "if is_cuda:\n",
        "    device = torch.device(\"cuda\")\n",
        "    print(\"GPU is available\")\n",
        "else:\n",
        "    device = torch.device(\"cpu\")\n",
        "    print(\"GPU not available, CPU used\")"
      ],
      "metadata": {
        "colab": {
          "base_uri": "https://localhost:8080/"
        },
        "id": "UDVBwNOYIzmU",
        "outputId": "d9bd8c7b-e233-4d5e-8e89-34381f22835b"
      },
      "execution_count": 5,
      "outputs": [
        {
          "output_type": "stream",
          "name": "stdout",
          "text": [
            "GPU is available\n"
          ]
        }
      ]
    },
    {
      "cell_type": "code",
      "source": [
        "input_dim = 2\n",
        "hidden_dim = 10\n",
        "layer_dim = 1\n",
        "output_dim = 1\n",
        "lr = 0.01\n",
        "epochs = 100\n",
        "\n",
        "model = RNNModel(input_size=input_dim, output_size=output_dim, hidden_dim=hidden_dim, n_layers=layer_dim)\n",
        "model = model.to(device)\n",
        "\n",
        "criterion = nn.BCELoss()\n",
        "optimizer = torch.optim.Adam(model.parameters(), lr=lr)"
      ],
      "metadata": {
        "id": "BT9gLyXfIO0I"
      },
      "execution_count": 6,
      "outputs": []
    },
    {
      "cell_type": "code",
      "source": [
        "# Directory to save best model\n",
        "model_dir = \"Best_Model\"\n",
        "model_name = \"model.pt\"\n",
        "try: \n",
        "    if os.path.exists(model_dir) == False:\n",
        "        os.mkdir(model_dir)\n",
        "except OSError as error: \n",
        "    print(error)\n",
        "model_path = model_dir+\"/\"+model_name\n"
      ],
      "metadata": {
        "id": "yVGFO5VCg0Vs"
      },
      "execution_count": 7,
      "outputs": []
    },
    {
      "cell_type": "markdown",
      "source": [],
      "metadata": {
        "id": "b5m6RodpHJaW"
      }
    },
    {
      "cell_type": "code",
      "source": [
        "# Training the  model\n",
        "best_loss = 512\n",
        "avg_train_loss = list()\n",
        "all_epochs     = list()\n",
        "for epoch in range(0, epochs):\n",
        "  total_train_loss = 0.0\n",
        "  avg_acc = 0.0\n",
        "  for i, (biNums, labels) in enumerate(train_loader):\n",
        "    optimizer.zero_grad() \n",
        "    biNums = biNums.to(device)\n",
        "    labels = labels.to(device)\n",
        "    output, hidden = model(biNums)\n",
        "    output = output.to(device)\n",
        "\n",
        "    labels = labels.view(-1)\n",
        "    output = output.view(-1)\n",
        "    \n",
        "    loss = criterion(output, labels)\n",
        "    total_train_loss += loss.item()\n",
        "    \n",
        "    loss.backward() \n",
        "    optimizer.step()  \n",
        "  avg_loss = total_train_loss/len(train_loader.sampler)\n",
        "\n",
        "  avg_train_loss.append(avg_loss)\n",
        "  all_epochs.append(epoch)\n",
        "\n",
        "  #saving best performing model\n",
        "  if best_loss>avg_loss:\n",
        "    best_loss = avg_loss\n",
        "    torch.save(model.state_dict(), model_path)\n",
        "\n",
        "  print('Epoch: {}/{}.............'.format(epoch+1, epochs), end=' ')\n",
        "  print(\"Train loss: {:.4f}\".format(avg_loss))\n",
        "print(\"Best loss: {:.4f}\".format(best_loss) )\n",
        "\n",
        "plt.plot(all_epochs, avg_train_loss, label=\"Training\")\n",
        "plt.xlabel(\"Epochs\")\n",
        "plt.ylabel(\"Training loss\")\n",
        "plt.legend()\n",
        "plt.show()"
      ],
      "metadata": {
        "colab": {
          "base_uri": "https://localhost:8080/",
          "height": 1000
        },
        "id": "6xvpPSCoJ3-6",
        "outputId": "63df627b-534b-4eb6-98b3-3ae57b5d191a"
      },
      "execution_count": 8,
      "outputs": [
        {
          "output_type": "stream",
          "name": "stdout",
          "text": [
            "Epoch: 1/100............. Train loss: 0.0054\n",
            "Epoch: 2/100............. Train loss: 0.0054\n",
            "Epoch: 3/100............. Train loss: 0.0054\n",
            "Epoch: 4/100............. Train loss: 0.0054\n",
            "Epoch: 5/100............. Train loss: 0.0054\n",
            "Epoch: 6/100............. Train loss: 0.0054\n",
            "Epoch: 7/100............. Train loss: 0.0054\n",
            "Epoch: 8/100............. Train loss: 0.0054\n",
            "Epoch: 9/100............. Train loss: 0.0054\n",
            "Epoch: 10/100............. Train loss: 0.0054\n",
            "Epoch: 11/100............. Train loss: 0.0054\n",
            "Epoch: 12/100............. Train loss: 0.0054\n",
            "Epoch: 13/100............. Train loss: 0.0054\n",
            "Epoch: 14/100............. Train loss: 0.0054\n",
            "Epoch: 15/100............. Train loss: 0.0054\n",
            "Epoch: 16/100............. Train loss: 0.0054\n",
            "Epoch: 17/100............. Train loss: 0.0053\n",
            "Epoch: 18/100............. Train loss: 0.0053\n",
            "Epoch: 19/100............. Train loss: 0.0053\n",
            "Epoch: 20/100............. Train loss: 0.0053\n",
            "Epoch: 21/100............. Train loss: 0.0052\n",
            "Epoch: 22/100............. Train loss: 0.0051\n",
            "Epoch: 23/100............. Train loss: 0.0051\n",
            "Epoch: 24/100............. Train loss: 0.0050\n",
            "Epoch: 25/100............. Train loss: 0.0048\n",
            "Epoch: 26/100............. Train loss: 0.0046\n",
            "Epoch: 27/100............. Train loss: 0.0044\n",
            "Epoch: 28/100............. Train loss: 0.0040\n",
            "Epoch: 29/100............. Train loss: 0.0037\n",
            "Epoch: 30/100............. Train loss: 0.0033\n",
            "Epoch: 31/100............. Train loss: 0.0030\n",
            "Epoch: 32/100............. Train loss: 0.0026\n",
            "Epoch: 33/100............. Train loss: 0.0023\n",
            "Epoch: 34/100............. Train loss: 0.0020\n",
            "Epoch: 35/100............. Train loss: 0.0018\n",
            "Epoch: 36/100............. Train loss: 0.0016\n",
            "Epoch: 37/100............. Train loss: 0.0014\n",
            "Epoch: 38/100............. Train loss: 0.0012\n",
            "Epoch: 39/100............. Train loss: 0.0010\n",
            "Epoch: 40/100............. Train loss: 0.0009\n",
            "Epoch: 41/100............. Train loss: 0.0008\n",
            "Epoch: 42/100............. Train loss: 0.0007\n",
            "Epoch: 43/100............. Train loss: 0.0006\n",
            "Epoch: 44/100............. Train loss: 0.0006\n",
            "Epoch: 45/100............. Train loss: 0.0005\n",
            "Epoch: 46/100............. Train loss: 0.0005\n",
            "Epoch: 47/100............. Train loss: 0.0004\n",
            "Epoch: 48/100............. Train loss: 0.0004\n",
            "Epoch: 49/100............. Train loss: 0.0003\n",
            "Epoch: 50/100............. Train loss: 0.0003\n",
            "Epoch: 51/100............. Train loss: 0.0003\n",
            "Epoch: 52/100............. Train loss: 0.0003\n",
            "Epoch: 53/100............. Train loss: 0.0002\n",
            "Epoch: 54/100............. Train loss: 0.0002\n",
            "Epoch: 55/100............. Train loss: 0.0002\n",
            "Epoch: 56/100............. Train loss: 0.0002\n",
            "Epoch: 57/100............. Train loss: 0.0002\n",
            "Epoch: 58/100............. Train loss: 0.0002\n",
            "Epoch: 59/100............. Train loss: 0.0002\n",
            "Epoch: 60/100............. Train loss: 0.0002\n",
            "Epoch: 61/100............. Train loss: 0.0001\n",
            "Epoch: 62/100............. Train loss: 0.0001\n",
            "Epoch: 63/100............. Train loss: 0.0001\n",
            "Epoch: 64/100............. Train loss: 0.0001\n",
            "Epoch: 65/100............. Train loss: 0.0001\n",
            "Epoch: 66/100............. Train loss: 0.0001\n",
            "Epoch: 67/100............. Train loss: 0.0001\n",
            "Epoch: 68/100............. Train loss: 0.0001\n",
            "Epoch: 69/100............. Train loss: 0.0001\n",
            "Epoch: 70/100............. Train loss: 0.0001\n",
            "Epoch: 71/100............. Train loss: 0.0001\n",
            "Epoch: 72/100............. Train loss: 0.0001\n",
            "Epoch: 73/100............. Train loss: 0.0001\n",
            "Epoch: 74/100............. Train loss: 0.0001\n",
            "Epoch: 75/100............. Train loss: 0.0001\n",
            "Epoch: 76/100............. Train loss: 0.0001\n",
            "Epoch: 77/100............. Train loss: 0.0001\n",
            "Epoch: 78/100............. Train loss: 0.0001\n",
            "Epoch: 79/100............. Train loss: 0.0001\n",
            "Epoch: 80/100............. Train loss: 0.0001\n",
            "Epoch: 81/100............. Train loss: 0.0001\n",
            "Epoch: 82/100............. Train loss: 0.0001\n",
            "Epoch: 83/100............. Train loss: 0.0001\n",
            "Epoch: 84/100............. Train loss: 0.0001\n",
            "Epoch: 85/100............. Train loss: 0.0001\n",
            "Epoch: 86/100............. Train loss: 0.0001\n",
            "Epoch: 87/100............. Train loss: 0.0001\n",
            "Epoch: 88/100............. Train loss: 0.0000\n",
            "Epoch: 89/100............. Train loss: 0.0000\n",
            "Epoch: 90/100............. Train loss: 0.0000\n",
            "Epoch: 91/100............. Train loss: 0.0000\n",
            "Epoch: 92/100............. Train loss: 0.0000\n",
            "Epoch: 93/100............. Train loss: 0.0000\n",
            "Epoch: 94/100............. Train loss: 0.0000\n",
            "Epoch: 95/100............. Train loss: 0.0000\n",
            "Epoch: 96/100............. Train loss: 0.0000\n",
            "Epoch: 97/100............. Train loss: 0.0000\n",
            "Epoch: 98/100............. Train loss: 0.0000\n",
            "Epoch: 99/100............. Train loss: 0.0000\n",
            "Epoch: 100/100............. Train loss: 0.0000\n",
            "Best loss: 0.0000\n"
          ]
        },
        {
          "output_type": "display_data",
          "data": {
            "text/plain": [
              "<Figure size 432x288 with 1 Axes>"
            ],
            "image/png": "[encoded data removed]"
          },
          "metadata": {
            "needs_background": "light"
          }
        }
      ]
    },
    {
      "cell_type": "code",
      "source": [
        "#Generating five examples for testing model\n",
        "np.random.seed(0)\n",
        "test_set = BiDataset(size=5, num_bits=16, zfills=17, flag=\"test\")\n",
        "\n",
        "params = {'batch_size': 1,\n",
        "          'shuffle': False,\n",
        "          'num_workers': 2}\n",
        "\n",
        "test_loader = DataLoader(test_set, **params)"
      ],
      "metadata": {
        "id": "9LgYwWCEw78t"
      },
      "execution_count": 9,
      "outputs": []
    },
    {
      "cell_type": "code",
      "source": [
        "#loading the best model\n",
        "checkpoint = torch.load(model_path)\n",
        "model.load_state_dict(checkpoint)\n",
        "model.eval()\n",
        "\n",
        "correct_cnt = 0\n",
        "#Deploying the best model\n",
        "with torch.no_grad():\n",
        "  print(\"Part 1 deployment results: \")\n",
        "  for batch_idx, (a, b, a_bin, b_bin, x_test, target) in enumerate(test_loader):\n",
        "      x_test, target = x_test.to(device), target.to(device)\n",
        "     \n",
        "      out, hidden = model(x_test)\n",
        "      \n",
        "      out = out.reshape((len(out), -1))\n",
        "      target = target.reshape((len(target), -1))\n",
        "    \n",
        "      preds_bool  = out>0.5\n",
        "      preds_float = torch.as_tensor(preds_bool, dtype=torch.float32)\n",
        "      preds_float = preds_float.view(-1)\n",
        "      target = target.view(-1)\n",
        "\n",
        "      target = target.cpu().detach().numpy()\n",
        "      preds_float = preds_float.cpu().detach().numpy()\n",
        "      output = np.asarray(preds_float, dtype=int)\n",
        "      label = np.asarray(target, dtype=int)\n",
        "      accuracy    = accuracy_score(target, preds_float)\n",
        "      \n",
        "      print('Test number {}: Integer1: {}, Integer2: {}, Integer1 binary: {},'.format(batch_idx+1, a.item(), b.item(), a_bin), end=' ')\n",
        "      print(' Integer2 binary: {}, Label: {}, Predicted: {}, Correctly predicted: digits: {:.2f}%'.format( b_bin, label, output, (accuracy*100)))\n",
        "      print()"
      ],
      "metadata": {
        "id": "FrqMMSOAAm35",
        "colab": {
          "base_uri": "https://localhost:8080/"
        },
        "outputId": "ee37f58a-ac8c-46e1-b70e-51c47dc8c784"
      },
      "execution_count": 10,
      "outputs": [
        {
          "output_type": "stream",
          "name": "stdout",
          "text": [
            "Part 1 deployment results: \n",
            "Test number 1: Integer1: 43606, Integer2: 17871, Integer1 binary: ('01101010010101010',),  Integer2 binary: ('11110011101000100',), Label: [1 0 1 0 0 1 0 0 0 0 0 0 1 1 1 1 0], Predicted: [1 0 1 0 0 1 0 0 0 0 0 0 1 1 1 1 0], Correctly predicted: digits: 100.00%\n",
            "\n",
            "Test number 2: Integer1: 18702, Integer2: 13085, Integer1 binary: ('01110000100100100',),  Integer2 binary: ('10111000110011000',), Label: [1 1 0 1 0 1 0 0 0 0 1 1 1 1 1 0 0], Predicted: [1 1 0 1 0 1 0 0 0 0 1 1 1 1 1 0 0], Correctly predicted: digits: 100.00%\n",
            "\n",
            "Test number 3: Integer1: 51900, Integer2: 48274, Integer1 binary: ('00111101010100110',),  Integer2 binary: ('01001001001111010',), Label: [0 1 1 1 0 0 1 0 1 1 1 0 0 0 0 1 1], Predicted: [0 1 1 1 0 0 1 0 1 1 1 0 0 0 0 1 1], Correctly predicted: digits: 100.00%\n",
            "\n",
            "Test number 4: Integer1: 46974, Integer2: 50453, Integer1 binary: ('01111110111011010',),  Integer2 binary: ('10101000101000110',), Label: [1 1 0 0 1 0 0 1 0 0 1 1 1 1 1 0 1], Predicted: [1 1 0 0 1 0 0 1 0 0 1 1 1 1 1 0 1], Correctly predicted: digits: 100.00%\n",
            "\n",
            "Test number 5: Integer1: 34827, Integer2: 21385, Integer1 binary: ('11010000000100010',),  Integer2 binary: ('10010001110010100',), Label: [0 0 1 0 1 0 0 1 1 1 0 1 1 0 1 1 0], Predicted: [0 0 1 0 1 0 0 1 1 1 0 1 1 0 1 1 0], Correctly predicted: digits: 100.00%\n",
            "\n"
          ]
        }
      ]
    },
    {
      "cell_type": "markdown",
      "source": [
        "**Question 4 Part 2**"
      ],
      "metadata": {
        "id": "FROEsINIlxrC"
      }
    },
    {
      "cell_type": "code",
      "source": [
        "#Dataset class for part 2\n",
        "class BiDataset2(Dataset):\n",
        "    def __init__(self, size=512, num_bits=16, zfills=17, flag=\"train\"):\n",
        "        self.num_bits = num_bits\n",
        "        self.size = size\n",
        "        self.flag = flag\n",
        "        \n",
        "        assert zfills > num_bits\n",
        "        self.zfills = zfills\n",
        "  \n",
        "    def __len__(self):\n",
        "        return self.size\n",
        "    \n",
        "    def __getitem__(self, index):\n",
        "        a = np.random.randint(0, 2**self.num_bits)\n",
        "        b = np.random.randint(0, 2**self.num_bits)\n",
        "        c = a + b\n",
        "\n",
        "        a_bin = format(a, 'b').zfill(self.zfills)\n",
        "        b_bin = format(b, 'b').zfill(self.zfills)\n",
        "        c_bin = format(c, 'b').zfill(self.zfills)\n",
        "        \n",
        "        size  = len(a_bin)\n",
        "        \n",
        "        X = np.zeros((size,2),dtype=np.float32)\n",
        "        y = np.zeros((len(c_bin)), dtype=np.float32)\n",
        "        for i in range(0, size):\n",
        "          X[i,0]=a_bin[i] \n",
        "          X[i,1]=b_bin[i]\n",
        "          y[i]=c_bin[i]\n",
        "      \n",
        "        X_tensor = torch.from_numpy(X)\n",
        "        y_tensor = torch.from_numpy(y)\n",
        "        if self.flag==\"train\":\n",
        "          return X_tensor, y_tensor\n",
        "        else:\n",
        "          return  a, b, a_bin, b_bin, X_tensor, y_tensor"
      ],
      "metadata": {
        "id": "6Mo3lgCRXAe9"
      },
      "execution_count": 11,
      "outputs": []
    },
    {
      "cell_type": "code",
      "source": [
        "#Creating and generating data\n",
        "np.random.seed(0)\n",
        "train_set2 = BiDataset2(size=512, num_bits=16, zfills=17, flag=\"train\")\n",
        "\n",
        "params = {'batch_size': 128,\n",
        "          'shuffle': True,\n",
        "          'num_workers': 2}\n",
        "\n",
        "train_loader2 = DataLoader(train_set2, **params)"
      ],
      "metadata": {
        "id": "xkR9eTNZXb5O"
      },
      "execution_count": 12,
      "outputs": []
    },
    {
      "cell_type": "code",
      "source": [
        "#Part 2 model\n",
        "class RNNModel2(nn.Module):\n",
        "    def __init__(self, input_dim, output_dim, hidden_dim, n_layers):\n",
        "        super(RNNModel2, self).__init__()\n",
        "\n",
        "        # Defining some parameters\n",
        "        self.hidden_dim = hidden_dim\n",
        "        self.n_layers = n_layers\n",
        "        self.rnn = nn.RNN(input_dim, hidden_dim, n_layers, batch_first=True) \n",
        "\n",
        "        # Fully connected layer\n",
        "        self.fc = nn.Linear(hidden_dim, output_dim)\n",
        "        self.sigmoid = nn.Sigmoid()\n",
        "    \n",
        "    def forward(self, x):\n",
        "        batch_size = x.size(0)\n",
        "        hidden = torch.zeros(self.n_layers, batch_size, self.hidden_dim).to(device)\n",
        "        out, hidden = self.rnn(x, hidden)\n",
        "        out = out.contiguous().view(-1, self.hidden_dim)\n",
        "        out = self.fc(out)\n",
        "        out = self.sigmoid(out)\n",
        "        return out, hidden"
      ],
      "metadata": {
        "id": "8Ml_NBDXaNtA"
      },
      "execution_count": 13,
      "outputs": []
    },
    {
      "cell_type": "code",
      "source": [
        "input_dim = 2\n",
        "hidden_dim = 100\n",
        "layer_dim = 1\n",
        "output_dim = 1\n",
        "lr=0.01\n",
        "epochs = 100\n",
        "\n",
        "model = RNNModel2(input_dim=input_dim, output_dim=output_dim, hidden_dim=hidden_dim, n_layers=layer_dim)\n",
        "model = model.to(device)\n",
        "\n",
        "criterion = nn.BCELoss()\n",
        "optimizer = torch.optim.Adam(model.parameters(), lr=lr)"
      ],
      "metadata": {
        "id": "Mk14AStGg4lX"
      },
      "execution_count": 14,
      "outputs": []
    },
    {
      "cell_type": "code",
      "source": [
        "model_name = \"model2.pt\"\n",
        "model_path = model_dir+\"/\"+model_name"
      ],
      "metadata": {
        "id": "vnaI-M_4jPgc"
      },
      "execution_count": 15,
      "outputs": []
    },
    {
      "cell_type": "code",
      "source": [
        "# Training the model\n",
        "best_loss = 512\n",
        "avg_train_loss = list()\n",
        "all_epochs     = list()\n",
        "\n",
        "for epoch in range(0, epochs):\n",
        "  total_train_loss = 0.0\n",
        "  avg_acc = 0.0\n",
        "  for i, (biNums, labels) in enumerate(train_loader2):\n",
        "    optimizer.zero_grad() \n",
        "    biNums = biNums.to(device)\n",
        "    labels = labels.to(device)\n",
        "    output, hidden = model(biNums)\n",
        "    output = output.to(device)\n",
        "  \n",
        "    labels = labels.view(-1)\n",
        "    output = output.view(-1)\n",
        "    \n",
        "    loss = criterion(output, labels)\n",
        "    total_train_loss += loss.item()\n",
        "    \n",
        "    loss.backward() \n",
        "    optimizer.step() \n",
        "    \n",
        "  avg_loss = total_train_loss/len(train_loader2.sampler)\n",
        "  avg_train_loss.append(avg_loss)\n",
        "  all_epochs.append(epoch)\n",
        "  \n",
        "  #saving best performing model\n",
        "  if best_loss>avg_loss:\n",
        "    best_loss = avg_loss\n",
        "    torch.save(model.state_dict(), model_path)\n",
        "  print('Epoch: {}/{}.............'.format(epoch+1, epochs), end=' ')\n",
        "  print(\"Train loss: {:.4f}\".format(avg_loss))\n",
        "print(\"Best loss: {:.4f}\".format(best_loss) )\n",
        "plt.plot(all_epochs, avg_train_loss, label=\"Training\")\n",
        "plt.xlabel(\"Epochs\")\n",
        "plt.ylabel(\"Training loss\")\n",
        "plt.legend()\n",
        "plt.show()"
      ],
      "metadata": {
        "colab": {
          "base_uri": "https://localhost:8080/",
          "height": 1000
        },
        "id": "_JEELnJVju4b",
        "outputId": "1333bb03-351f-42d4-e839-0bfb85cce46a"
      },
      "execution_count": 16,
      "outputs": [
        {
          "output_type": "stream",
          "name": "stdout",
          "text": [
            "Epoch: 1/100............. Train loss: 0.0055\n",
            "Epoch: 2/100............. Train loss: 0.0054\n",
            "Epoch: 3/100............. Train loss: 0.0054\n",
            "Epoch: 4/100............. Train loss: 0.0054\n",
            "Epoch: 5/100............. Train loss: 0.0054\n",
            "Epoch: 6/100............. Train loss: 0.0054\n",
            "Epoch: 7/100............. Train loss: 0.0054\n",
            "Epoch: 8/100............. Train loss: 0.0054\n",
            "Epoch: 9/100............. Train loss: 0.0054\n",
            "Epoch: 10/100............. Train loss: 0.0054\n",
            "Epoch: 11/100............. Train loss: 0.0054\n",
            "Epoch: 12/100............. Train loss: 0.0054\n",
            "Epoch: 13/100............. Train loss: 0.0054\n",
            "Epoch: 14/100............. Train loss: 0.0054\n",
            "Epoch: 15/100............. Train loss: 0.0054\n",
            "Epoch: 16/100............. Train loss: 0.0054\n",
            "Epoch: 17/100............. Train loss: 0.0054\n",
            "Epoch: 18/100............. Train loss: 0.0054\n",
            "Epoch: 19/100............. Train loss: 0.0054\n",
            "Epoch: 20/100............. Train loss: 0.0054\n",
            "Epoch: 21/100............. Train loss: 0.0054\n",
            "Epoch: 22/100............. Train loss: 0.0054\n",
            "Epoch: 23/100............. Train loss: 0.0054\n",
            "Epoch: 24/100............. Train loss: 0.0054\n",
            "Epoch: 25/100............. Train loss: 0.0054\n",
            "Epoch: 26/100............. Train loss: 0.0054\n",
            "Epoch: 27/100............. Train loss: 0.0054\n",
            "Epoch: 28/100............. Train loss: 0.0054\n",
            "Epoch: 29/100............. Train loss: 0.0054\n",
            "Epoch: 30/100............. Train loss: 0.0054\n",
            "Epoch: 31/100............. Train loss: 0.0054\n",
            "Epoch: 32/100............. Train loss: 0.0054\n",
            "Epoch: 33/100............. Train loss: 0.0054\n",
            "Epoch: 34/100............. Train loss: 0.0054\n",
            "Epoch: 35/100............. Train loss: 0.0054\n",
            "Epoch: 36/100............. Train loss: 0.0054\n",
            "Epoch: 37/100............. Train loss: 0.0054\n",
            "Epoch: 38/100............. Train loss: 0.0054\n",
            "Epoch: 39/100............. Train loss: 0.0054\n",
            "Epoch: 40/100............. Train loss: 0.0054\n",
            "Epoch: 41/100............. Train loss: 0.0054\n",
            "Epoch: 42/100............. Train loss: 0.0054\n",
            "Epoch: 43/100............. Train loss: 0.0054\n",
            "Epoch: 44/100............. Train loss: 0.0054\n",
            "Epoch: 45/100............. Train loss: 0.0054\n",
            "Epoch: 46/100............. Train loss: 0.0054\n",
            "Epoch: 47/100............. Train loss: 0.0054\n",
            "Epoch: 48/100............. Train loss: 0.0054\n",
            "Epoch: 49/100............. Train loss: 0.0054\n",
            "Epoch: 50/100............. Train loss: 0.0054\n",
            "Epoch: 51/100............. Train loss: 0.0054\n",
            "Epoch: 52/100............. Train loss: 0.0054\n",
            "Epoch: 53/100............. Train loss: 0.0054\n",
            "Epoch: 54/100............. Train loss: 0.0054\n",
            "Epoch: 55/100............. Train loss: 0.0054\n",
            "Epoch: 56/100............. Train loss: 0.0054\n",
            "Epoch: 57/100............. Train loss: 0.0054\n",
            "Epoch: 58/100............. Train loss: 0.0054\n",
            "Epoch: 59/100............. Train loss: 0.0054\n",
            "Epoch: 60/100............. Train loss: 0.0054\n",
            "Epoch: 61/100............. Train loss: 0.0054\n",
            "Epoch: 62/100............. Train loss: 0.0054\n",
            "Epoch: 63/100............. Train loss: 0.0054\n",
            "Epoch: 64/100............. Train loss: 0.0054\n",
            "Epoch: 65/100............. Train loss: 0.0054\n",
            "Epoch: 66/100............. Train loss: 0.0054\n",
            "Epoch: 67/100............. Train loss: 0.0054\n",
            "Epoch: 68/100............. Train loss: 0.0054\n",
            "Epoch: 69/100............. Train loss: 0.0054\n",
            "Epoch: 70/100............. Train loss: 0.0054\n",
            "Epoch: 71/100............. Train loss: 0.0054\n",
            "Epoch: 72/100............. Train loss: 0.0054\n",
            "Epoch: 73/100............. Train loss: 0.0054\n",
            "Epoch: 74/100............. Train loss: 0.0054\n",
            "Epoch: 75/100............. Train loss: 0.0054\n",
            "Epoch: 76/100............. Train loss: 0.0054\n",
            "Epoch: 77/100............. Train loss: 0.0054\n",
            "Epoch: 78/100............. Train loss: 0.0054\n",
            "Epoch: 79/100............. Train loss: 0.0054\n",
            "Epoch: 80/100............. Train loss: 0.0054\n",
            "Epoch: 81/100............. Train loss: 0.0054\n",
            "Epoch: 82/100............. Train loss: 0.0054\n",
            "Epoch: 83/100............. Train loss: 0.0054\n",
            "Epoch: 84/100............. Train loss: 0.0054\n",
            "Epoch: 85/100............. Train loss: 0.0054\n",
            "Epoch: 86/100............. Train loss: 0.0054\n",
            "Epoch: 87/100............. Train loss: 0.0054\n",
            "Epoch: 88/100............. Train loss: 0.0054\n",
            "Epoch: 89/100............. Train loss: 0.0054\n",
            "Epoch: 90/100............. Train loss: 0.0054\n",
            "Epoch: 91/100............. Train loss: 0.0054\n",
            "Epoch: 92/100............. Train loss: 0.0054\n",
            "Epoch: 93/100............. Train loss: 0.0054\n",
            "Epoch: 94/100............. Train loss: 0.0054\n",
            "Epoch: 95/100............. Train loss: 0.0054\n",
            "Epoch: 96/100............. Train loss: 0.0054\n",
            "Epoch: 97/100............. Train loss: 0.0054\n",
            "Epoch: 98/100............. Train loss: 0.0054\n",
            "Epoch: 99/100............. Train loss: 0.0054\n",
            "Epoch: 100/100............. Train loss: 0.0054\n",
            "Best loss: 0.0054\n"
          ]
        },
        {
          "output_type": "display_data",
          "data": {
            "text/plain": [
              "<Figure size 432x288 with 1 Axes>"
            ],
            "image/png": "[encoded data removed]"
          },
          "metadata": {
            "needs_background": "light"
          }
        }
      ]
    },
    {
      "cell_type": "code",
      "source": [
        "#Generating 5 samples for deployment\n",
        "np.random.seed(0)\n",
        "test_set2 = BiDataset(size=5, num_bits=16, zfills=17, flag=\"test\")\n",
        "\n",
        "params = {'batch_size': 1,\n",
        "          'shuffle': False,\n",
        "          'num_workers': 2}\n",
        "\n",
        "test_loader2 = DataLoader(test_set2, **params)"
      ],
      "metadata": {
        "id": "ZJAsoMFPknwS"
      },
      "execution_count": 17,
      "outputs": []
    },
    {
      "cell_type": "code",
      "source": [
        "#loading the best model\n",
        "checkpoint = torch.load(model_path)\n",
        "model.load_state_dict(checkpoint)\n",
        "model.eval()\n",
        "\n",
        "correct_cnt = 0\n",
        "#Deploying best model\n",
        "with torch.no_grad():\n",
        "  print(\"Deployment results for Part 2: \")\n",
        "  for batch_idx, (a, b, a_bin, b_bin, x_test, target) in enumerate(test_loader2):\n",
        "      x_test, target = x_test.to(device), target.to(device)\n",
        "     \n",
        "      out, hidden = model(x_test)\n",
        "      \n",
        "      out = out.reshape((len(out), -1))\n",
        "      target = target.reshape((len(target), -1))\n",
        "    \n",
        "      preds_bool  = out>0.5\n",
        "      preds_float = torch.as_tensor(preds_bool, dtype=torch.float32)\n",
        "      preds_float = preds_float.view(-1)\n",
        "      target = target.view(-1)\n",
        "\n",
        "      target = target.cpu().detach().numpy()\n",
        "      preds_float = preds_float.cpu().detach().numpy()\n",
        "      output = np.asarray(preds_float, dtype=int)\n",
        "      label = np.asarray(target, dtype=int)\n",
        "      accuracy    = accuracy_score(target, preds_float)\n",
        "  \n",
        "      print('Test number {}: Integer1: {}, Integer2: {}, Integer1 binary: {},'.format(batch_idx+1, a.item(), b.item(), a_bin), end=' ')\n",
        "      print(' Integer2 binary: {}, Label: {}, Predicted: {}, Correctly predicted: digits: {:.2f}%'.format( b_bin, label, output, (accuracy*100)))\n",
        "      print()"
      ],
      "metadata": {
        "colab": {
          "base_uri": "https://localhost:8080/"
        },
        "id": "n_Wl4nUpkXmF",
        "outputId": "19debd54-29ff-4d85-cfd4-e0093ae0fbaf"
      },
      "execution_count": 18,
      "outputs": [
        {
          "output_type": "stream",
          "name": "stdout",
          "text": [
            "Deployment results for Part 2: \n",
            "Test number 1: Integer1: 13311, Integer2: 26770, Integer1 binary: ('11111111110011000',),  Integer2 binary: ('01001001000101100',), Label: [1 0 0 0 1 0 0 1 0 0 1 1 1 0 0 1 0], Predicted: [1 0 0 1 0 1 1 0 1 1 1 1 0 0 1 1 1], Correctly predicted: digits: 41.18%\n",
            "\n",
            "Test number 2: Integer1: 5655, Integer2: 33822, Integer1 binary: ('11101000011010000',),  Integer2 binary: ('01111000001000010',), Label: [1 0 1 0 1 1 0 0 0 1 0 1 1 0 0 1 0], Predicted: [1 0 0 1 0 1 1 1 1 0 0 1 1 1 1 1 1], Correctly predicted: digits: 41.18%\n",
            "\n",
            "Test number 3: Integer1: 11381, Integer2: 50783, Integer1 binary: ('10101110001101000',),  Integer2 binary: ('11111010011000110',), Label: [0 0 1 0 1 0 1 1 0 1 0 0 1 1 1 1 0], Predicted: [0 1 0 1 0 1 0 1 1 1 0 1 1 1 1 1 1], Correctly predicted: digits: 47.06%\n",
            "\n",
            "Test number 4: Integer1: 3013, Integer2: 54386, Integer1 binary: ('10100011110100000',),  Integer2 binary: ('01001110001010110',), Label: [1 1 1 0 1 1 0 0 0 0 0 0 0 1 1 1 0], Predicted: [1 1 0 1 1 1 0 0 1 0 1 1 1 1 1 1 1], Correctly predicted: digits: 58.82%\n",
            "\n",
            "Test number 5: Integer1: 24946, Integer2: 27800, Integer1 binary: ('01001110100001100',),  Integer2 binary: ('00011001001101100',), Label: [0 1 0 1 0 0 0 0 0 1 1 1 0 0 1 1 0], Predicted: [1 0 1 1 0 0 1 1 0 1 1 1 1 0 0 1 1], Correctly predicted: digits: 52.94%\n",
            "\n"
          ]
        }
      ]
    },
    {
      "cell_type": "code",
      "source": [],
      "metadata": {
        "id": "XY7GpVnHmdwC"
      },
      "execution_count": 18,
      "outputs": []
    }
  ]
}